{
 "cells": [
  {
   "cell_type": "markdown",
   "metadata": {},
   "source": [
    "##### NumPy : Numerical Python\n",
    "A library consisting of multidimensional array objects and a collection of routines for processing those arrays. \n",
    "Mathematical and logical operations on arrays can be performed. Also provides high performance.\n",
    "Space efficient multi-dimensional array, which provides vectorized arithmetic operations. "
   ]
  },
  {
   "cell_type": "code",
   "execution_count": 1,
   "metadata": {},
   "outputs": [],
   "source": [
    "import numpy as np\n",
    "import sys \n",
    "import time"
   ]
  },
  {
   "cell_type": "code",
   "execution_count": 2,
   "metadata": {},
   "outputs": [
    {
     "name": "stdout",
     "output_type": "stream",
     "text": [
      "1.16.2\n"
     ]
    }
   ],
   "source": [
    "print(np.__version__)"
   ]
  },
  {
   "cell_type": "markdown",
   "metadata": {},
   "source": [
    "##### notice that --> python list taking 28000 bytes ,  numpy array taking 4000 bytes\n"
   ]
  },
  {
   "cell_type": "code",
   "execution_count": 3,
   "metadata": {},
   "outputs": [
    {
     "name": "stdout",
     "output_type": "stream",
     "text": [
      "28000\n",
      "4000\n"
     ]
    }
   ],
   "source": [
    "l = range(1000)\n",
    "print(sys.getsizeof(5)*len(l))      # getsizeof()  gives size of 1 element  pass any no.in it ()\n",
    "\n",
    "array=np.arange(1000)\n",
    "print(array.size * array.itemsize)    # array.itemsize  gives size of 1 element "
   ]
  },
  {
   "cell_type": "markdown",
   "metadata": {},
   "source": [
    "##### numpy array is fast and convenient , compared to python list"
   ]
  },
  {
   "cell_type": "code",
   "execution_count": 4,
   "metadata": {},
   "outputs": [
    {
     "name": "stdout",
     "output_type": "stream",
     "text": [
      "list time took :  20.013809204101562\n",
      "Numpy took time :  3.0019283294677734\n"
     ]
    }
   ],
   "source": [
    "SIZE = 100000\n",
    "\n",
    "l1 = range(SIZE)\n",
    "l2 = range(SIZE)\n",
    "start = time.time()\n",
    "result = [(x+y) for x,y in zip(l1,l2)]\n",
    "print('list time took : ', (time.time()-start)*1000)     # times in sec. , by *1000 change into -> milliseconds.\n",
    "\n",
    "\n",
    "a1 = np.arange(SIZE)\n",
    "a2 = np.arange(SIZE)\n",
    "start = time.time()\n",
    "result = a1 + a2\n",
    "print('Numpy took time : ', (time.time()-start)*1000)    "
   ]
  },
  {
   "cell_type": "code",
   "execution_count": 5,
   "metadata": {},
   "outputs": [
    {
     "name": "stdout",
     "output_type": "stream",
     "text": [
      "ndim : gives dimension of matrix :  1\n",
      "ndim : gives dimension of matrix :  2\n",
      "itemsize : gives size of 1 element :  4\n",
      "dtype : gives datatype :  int32\n",
      "size : gives size of total no. of elements :  6\n",
      "shape : gives (rows, columns) :  (3, 2)\n",
      "[[1 2 3]\n",
      " [4 5 6]]\n",
      "[[1 2 3]\n",
      " [4 5 6]]\n"
     ]
    }
   ],
   "source": [
    "a= np.array([1,2,3])                #  1-D\n",
    "b= np.array([[1,2],[3,4],[5,6]])   # 2-D\n",
    "\n",
    "print('ndim : gives dimension of matrix : ', a.ndim)             # ndim\n",
    "print('ndim : gives dimension of matrix : ', b.ndim)\n",
    "\n",
    "print('itemsize : gives size of 1 element : ', a.itemsize)       # itemsize : \n",
    "\n",
    "print('dtype : gives datatype : ', b.dtype)                      # dtype : \n",
    "\n",
    "print('size : gives size of total no. of elements : ', b.size)    # size\n",
    "\n",
    "print('shape : gives (rows, columns) : ', b.shape)                # shape\n",
    "b.shape=(2,3)    # we can change 'shape' of matrix\n",
    "print(b)\n",
    "b.reshape(3,2)   # we can again 'reshape' matrix\n",
    "print(b)"
   ]
  },
  {
   "cell_type": "markdown",
   "metadata": {},
   "source": [
    "##### ravel() , flatten()"
   ]
  },
  {
   "cell_type": "code",
   "execution_count": 6,
   "metadata": {},
   "outputs": [
    {
     "name": "stdout",
     "output_type": "stream",
     "text": [
      "[[1 2]\n",
      " [3 4]\n",
      " [5 6]]\n",
      "\n",
      " ravel() create 1D all element in 1 row :  [1 2 3 4 5 6] \n",
      "\n",
      "[[1 2]\n",
      " [3 4]\n",
      " [5 6]]\n",
      "\n",
      " flatten() same does :  [1 2 3 4 5 6] \n",
      "\n",
      "[[1 2]\n",
      " [3 4]\n",
      " [5 6]]\n"
     ]
    }
   ],
   "source": [
    "c=np.array([[1,2],[3,4],[5,6]], dtype='int64')        # dtype=np.float64 , CHANGES dtype 4->8  , dtype=complex   \n",
    "print(c)\n",
    "\n",
    "print('\\n ravel() create 1D all element in 1 row : ', c.ravel() , '\\n')     # c.ravel()\n",
    "print(c)     # after ravel() , it return original array\n",
    "\n",
    "print('\\n flatten() same does : ', c.flatten(), '\\n')     # c.flatten() \n",
    "print(c)"
   ]
  },
  {
   "cell_type": "markdown",
   "metadata": {},
   "source": [
    "#### numpy.empty\n",
    "It creates an uninitialized array of specified shape and dtype"
   ]
  },
  {
   "cell_type": "code",
   "execution_count": 7,
   "metadata": {},
   "outputs": [
    {
     "name": "stdout",
     "output_type": "stream",
     "text": [
      "[[1837725040         53]\n",
      " [         0          0]\n",
      " [         1       2044]]\n"
     ]
    }
   ],
   "source": [
    "import numpy as np \n",
    "\n",
    "x = np.empty([3,2], dtype = int) \n",
    "print(x)"
   ]
  },
  {
   "cell_type": "markdown",
   "metadata": {},
   "source": [
    "##### sum()"
   ]
  },
  {
   "cell_type": "code",
   "execution_count": 8,
   "metadata": {
    "scrolled": true
   },
   "outputs": [
    {
     "name": "stdout",
     "output_type": "stream",
     "text": [
      "[ 9 12]\n"
     ]
    }
   ],
   "source": [
    "print(c.sum(axis=0))        # aixs=0 : for column      and     axis=1 : for row"
   ]
  },
  {
   "cell_type": "markdown",
   "metadata": {},
   "source": [
    "#### np.std() : standard deviation "
   ]
  },
  {
   "cell_type": "code",
   "execution_count": 9,
   "metadata": {
    "scrolled": true
   },
   "outputs": [
    {
     "name": "stdout",
     "output_type": "stream",
     "text": [
      "1.707825127659933\n"
     ]
    }
   ],
   "source": [
    "print(np.std(c))        "
   ]
  },
  {
   "cell_type": "markdown",
   "metadata": {},
   "source": [
    "##### np.zeros() , np.ones()"
   ]
  },
  {
   "cell_type": "code",
   "execution_count": 10,
   "metadata": {},
   "outputs": [
    {
     "data": {
      "text/plain": [
       "array([0., 0., 0., 0., 0.])"
      ]
     },
     "execution_count": 10,
     "metadata": {},
     "output_type": "execute_result"
    }
   ],
   "source": [
    "np.zeros(5)                        # 1-D array matrix"
   ]
  },
  {
   "cell_type": "code",
   "execution_count": 11,
   "metadata": {
    "scrolled": true
   },
   "outputs": [
    {
     "name": "stdout",
     "output_type": "stream",
     "text": [
      "[[0. 0. 0. 0.]\n",
      " [0. 0. 0. 0.]\n",
      " [0. 0. 0. 0.]]\n"
     ]
    }
   ],
   "source": [
    "print(np.zeros( (3,4) ) )    # ((3,4))  for 2D matrix ( () ) , intialize with zeros 0  , (3 rows 4 columns)"
   ]
  },
  {
   "cell_type": "code",
   "execution_count": 12,
   "metadata": {},
   "outputs": [
    {
     "name": "stdout",
     "output_type": "stream",
     "text": [
      "[[1. 1. 1. 1.]\n",
      " [1. 1. 1. 1.]\n",
      " [1. 1. 1. 1.]]\n"
     ]
    }
   ],
   "source": [
    "print(np.ones((3,4)))     # ones 1          and 2-D matrix"
   ]
  },
  {
   "cell_type": "code",
   "execution_count": 13,
   "metadata": {},
   "outputs": [
    {
     "name": "stdout",
     "output_type": "stream",
     "text": [
      "[[[0. 0. 0. 0.]\n",
      "  [0. 0. 0. 0.]\n",
      "  [0. 0. 0. 0.]\n",
      "  [0. 0. 0. 0.]]\n",
      "\n",
      " [[0. 0. 0. 0.]\n",
      "  [0. 0. 0. 0.]\n",
      "  [0. 0. 0. 0.]\n",
      "  [0. 0. 0. 0.]]\n",
      "\n",
      " [[0. 0. 0. 0.]\n",
      "  [0. 0. 0. 0.]\n",
      "  [0. 0. 0. 0.]\n",
      "  [0. 0. 0. 0.]]]\n"
     ]
    }
   ],
   "source": [
    "print(np.zeros((3,4,4)))        # 3-D   , ( 3 matrix, 4 rows, 4 columns )  "
   ]
  },
  {
   "cell_type": "markdown",
   "metadata": {},
   "source": [
    "#### np.full(), np.random.rand() , np.eye()"
   ]
  },
  {
   "cell_type": "code",
   "execution_count": 14,
   "metadata": {},
   "outputs": [
    {
     "data": {
      "text/plain": [
       "array([[2, 2, 2, 2],\n",
       "       [2, 2, 2, 2],\n",
       "       [2, 2, 2, 2]])"
      ]
     },
     "execution_count": 14,
     "metadata": {},
     "output_type": "execute_result"
    }
   ],
   "source": [
    "np.full((3,4),2)        # 3x4 array with all values of 2"
   ]
  },
  {
   "cell_type": "code",
   "execution_count": 15,
   "metadata": {},
   "outputs": [
    {
     "data": {
      "text/plain": [
       "array([[0.47916932, 0.2833536 , 0.27096899, 0.49872924, 0.49889223],\n",
       "       [0.88924122, 0.67355085, 0.02291865, 0.20607049, 0.13861087],\n",
       "       [0.745377  , 0.93773548, 0.30953846, 0.60651057, 0.58319458]])"
      ]
     },
     "execution_count": 15,
     "metadata": {},
     "output_type": "execute_result"
    }
   ],
   "source": [
    "np.random.rand(3,5)     # 3x5 array of random floats between 0-1"
   ]
  },
  {
   "cell_type": "code",
   "execution_count": 16,
   "metadata": {},
   "outputs": [
    {
     "data": {
      "text/plain": [
       "array([[1., 0., 0., 0.],\n",
       "       [0., 1., 0., 0.],\n",
       "       [0., 0., 1., 0.],\n",
       "       [0., 0., 0., 1.]])"
      ]
     },
     "execution_count": 16,
     "metadata": {},
     "output_type": "execute_result"
    }
   ],
   "source": [
    "np.eye(4)       # 4x4 array of 0 with 1 on diagonal"
   ]
  },
  {
   "cell_type": "markdown",
   "metadata": {},
   "source": [
    "#### numpy.asarray()\n",
    "It is useful for converting Python sequence into ndarray."
   ]
  },
  {
   "cell_type": "code",
   "execution_count": 17,
   "metadata": {},
   "outputs": [
    {
     "name": "stdout",
     "output_type": "stream",
     "text": [
      "[1. 2. 3.]\n",
      "[1 2 3]\n"
     ]
    }
   ],
   "source": [
    "x = [1,2,3]    # list\n",
    "a = np.asarray(x, dtype = float) \n",
    "print(a)\n",
    "\n",
    "x = (1,2,3)   # tuple\n",
    "a = np.asarray(x)     # dtype=int\n",
    "print(a)"
   ]
  },
  {
   "cell_type": "code",
   "execution_count": 18,
   "metadata": {},
   "outputs": [
    {
     "name": "stdout",
     "output_type": "stream",
     "text": [
      "[0. 1. 2. 3. 4.]\n"
     ]
    }
   ],
   "source": [
    "lists = range(5) \n",
    "\n",
    "# use iterator to create ndarray \n",
    "x = np.fromiter(lists, dtype = float)             # np.fromiter()\n",
    "print(x)"
   ]
  },
  {
   "cell_type": "markdown",
   "metadata": {},
   "source": [
    "## -----------------"
   ]
  },
  {
   "cell_type": "markdown",
   "metadata": {},
   "source": [
    "##### np.arange() , np.linspace() , np.logspace()"
   ]
  },
  {
   "cell_type": "code",
   "execution_count": 19,
   "metadata": {},
   "outputs": [
    {
     "name": "stdout",
     "output_type": "stream",
     "text": [
      "[2 4 6 8]\n"
     ]
    }
   ],
   "source": [
    "print(np.arange(2,10,2))         # 2-start , 10-stop (not included) , 2-steps"
   ]
  },
  {
   "cell_type": "code",
   "execution_count": 20,
   "metadata": {},
   "outputs": [
    {
     "name": "stdout",
     "output_type": "stream",
     "text": [
      "[1.         1.44444444 1.88888889 2.33333333 2.77777778 3.22222222\n",
      " 3.66666667 4.11111111 4.55555556 5.        ]\n"
     ]
    }
   ],
   "source": [
    "print(np.linspace(1,5,10))    # linear space , 10 no. generated b/w  1 and 5"
   ]
  },
  {
   "cell_type": "code",
   "execution_count": 21,
   "metadata": {},
   "outputs": [
    {
     "name": "stdout",
     "output_type": "stream",
     "text": [
      "[ 10.          12.91549665  16.68100537  21.5443469   27.82559402\n",
      "  35.93813664  46.41588834  59.94842503  77.42636827 100.        ]\n",
      "--------------------\n",
      "[   2.    4.    8.   16.   32.   64.  128.  256.  512. 1024.]\n"
     ]
    }
   ],
   "source": [
    "# numpy.logspace(start, stop, num, endpoint, base, dtype)\n",
    "\n",
    "a = np.logspace(1.0, 2.0, num = 10)             # default base is 10 \n",
    "print(a)\n",
    "print(20*'-')\n",
    "\n",
    "a = np.logspace(1,10,num = 10, base = 2) \n",
    "print(a)"
   ]
  },
  {
   "cell_type": "markdown",
   "metadata": {},
   "source": [
    "## ---------------------"
   ]
  },
  {
   "cell_type": "markdown",
   "metadata": {},
   "source": [
    "#### Arithmetic operations such as : add(), subtract(), multiply(), and divide() \n",
    "##### dot() - used for multiplication "
   ]
  },
  {
   "cell_type": "code",
   "execution_count": 22,
   "metadata": {},
   "outputs": [
    {
     "name": "stdout",
     "output_type": "stream",
     "text": [
      "[[ 6  8]\n",
      " [10 12]]\n",
      "[[-4 -4]\n",
      " [-4 -4]]\n",
      "[[ 5 12]\n",
      " [21 32]]\n",
      "[[0.2        0.33333333]\n",
      " [0.42857143 0.5       ]]\n",
      "[[0.2        0.33333333]\n",
      " [0.42857143 0.5       ]]\n"
     ]
    }
   ],
   "source": [
    "x=np.array([[1,2],[3,4]])\n",
    "y=np.array([[5,6],[7,8]])\n",
    "\n",
    "print(np.add(x,y))         # print(x+y)       add()\n",
    "\n",
    "print(np.subtract(x,y))    # print(x-y)       substract()\n",
    "\n",
    "print(np.multiply(x,y))\n",
    "# print(x*y)\n",
    "# print(x.dot(y))      # dot() : for matrix multiplication\n",
    "\n",
    "print(np.divide(x,y))\n",
    "print(x/y)"
   ]
  },
  {
   "cell_type": "markdown",
   "metadata": {},
   "source": [
    "##### reciprocal() , power()"
   ]
  },
  {
   "cell_type": "code",
   "execution_count": 23,
   "metadata": {},
   "outputs": [
    {
     "name": "stdout",
     "output_type": "stream",
     "text": [
      "[  0.25   1.33   1.     0.   100.  ]\n",
      "reciprocal of a :  [4.        0.7518797 1.              inf 0.01     ]\n"
     ]
    },
    {
     "name": "stderr",
     "output_type": "stream",
     "text": [
      "C:\\ProgramData\\Anaconda3\\lib\\site-packages\\ipykernel_launcher.py:5: RuntimeWarning: divide by zero encountered in reciprocal\n",
      "  \"\"\"\n"
     ]
    }
   ],
   "source": [
    "# A reciprocal is a pair of numbers (such as 5/6 and 6/5) that can be multiplied to produce 1.\n",
    "\n",
    "a = np.array([0.25, 1.33, 1, 0, 100]) \n",
    "print(a)\n",
    "print('reciprocal of a : ', np.reciprocal(a))  "
   ]
  },
  {
   "cell_type": "code",
   "execution_count": 24,
   "metadata": {},
   "outputs": [
    {
     "name": "stdout",
     "output_type": "stream",
     "text": [
      "[    100   10000 1000000]\n"
     ]
    }
   ],
   "source": [
    "a = np.array([10,100,1000]) \n",
    "print(np.power(a,2))               # np.power()"
   ]
  },
  {
   "cell_type": "markdown",
   "metadata": {},
   "source": [
    "#### np.mod() , np.remainder()  \n",
    "##### returns the remainder of division of the corresponding elements in the input array"
   ]
  },
  {
   "cell_type": "code",
   "execution_count": 25,
   "metadata": {},
   "outputs": [
    {
     "name": "stdout",
     "output_type": "stream",
     "text": [
      "mod :  [1 0 2]\n",
      "remainder :  [1 0 2]\n"
     ]
    }
   ],
   "source": [
    "a = np.array([10,20,30]) \n",
    "b = np.array([3,5,7])\n",
    "\n",
    "print('mod : ', np.mod(a,b))\n",
    "print('remainder : ', np.remainder(a,b))"
   ]
  },
  {
   "cell_type": "markdown",
   "metadata": {},
   "source": [
    "##### numpy.real() − returns the real part of the complex data type argument.\n",
    "##### numpy.imag() − returns the imaginary part of the complex data type argument.\n",
    "##### numpy.conj() − returns the complex conjugate, which is obtained by changing the sign of the imaginary part.\n",
    "##### numpy.angle() − returns the angle of the complex argument. The function has degree parameter. If true, the angle in the degree is returned, otherwise the angle is in radians."
   ]
  },
  {
   "cell_type": "code",
   "execution_count": 26,
   "metadata": {},
   "outputs": [
    {
     "name": "stdout",
     "output_type": "stream",
     "text": [
      "real :  [-0.  0. 11.  1.]\n",
      "imaginary :  [-5.6  0.2  0.   1. ]\n",
      "conjugate :  [-0.+5.6j  0.-0.2j 11.-0.j   1.-1.j ]\n",
      "angle :  [-1.57079633  1.57079633  0.          0.78539816]\n",
      "angle in degree :  [-90.  90.   0.  45.]\n"
     ]
    }
   ],
   "source": [
    "a = np.array([-5.6j, 0.2j, 11. , 1+1j]) \n",
    "\n",
    "print('real : ', np.real(a))     # real()\n",
    "\n",
    "print('imaginary : ', np.imag(a))     # imag()\n",
    "\n",
    "print('conjugate : ', np.conj(a))     # conj()\n",
    "\n",
    "print('angle : ', np.angle(a))\n",
    "print('angle in degree : ', np.angle(a, deg = True))   # in degrees"
   ]
  },
  {
   "cell_type": "markdown",
   "metadata": {},
   "source": [
    "## --------------------------\n",
    "#### Operations "
   ]
  },
  {
   "cell_type": "markdown",
   "metadata": {},
   "source": [
    "##### Copying\n",
    "\n",
    "np.copy(array)    # Copies array to new memory array.\n",
    "\n",
    "view(dtype)       # Creates view of array elements with type dtype"
   ]
  },
  {
   "cell_type": "code",
   "execution_count": 27,
   "metadata": {},
   "outputs": [
    {
     "name": "stdout",
     "output_type": "stream",
     "text": [
      "[0 1 2 3 4 5]\n",
      "id of a :  229546881872\n",
      "[0 1 2 3 4 5]\n",
      "id of b :  229546881872\n",
      "b : \n",
      " [[0 1]\n",
      " [2 3]\n",
      " [4 5]]\n",
      "a : \n",
      " [[0 1]\n",
      " [2 3]\n",
      " [4 5]]\n"
     ]
    }
   ],
   "source": [
    "# Simple assignments do not make the copy of array object.\n",
    "# When the contents are physically stored in another location, it is called Copy. \n",
    "# If on the other hand, a different view of the same memory content is provided, we call it as View.\n",
    "\n",
    "a = np.arange(6) \n",
    "print(a)\n",
    "print('id of a : ', id(a))    # Applying id() function \n",
    "\n",
    "b = a                         # a is assigned to b \n",
    "print(b)\n",
    "print('id of b : ', id(b))    # same id\n",
    "\n",
    "\n",
    "# If shape of 'b' changed then shape of 'a' also changed\n",
    "b.shape = 3,2 \n",
    "\n",
    "print('b : \\n', b)\n",
    "print('a : \\n', a)"
   ]
  },
  {
   "cell_type": "code",
   "execution_count": 28,
   "metadata": {},
   "outputs": [
    {
     "name": "stdout",
     "output_type": "stream",
     "text": [
      "[[10 10]\n",
      " [ 2  3]\n",
      " [ 4  5]]\n",
      "[[10 10]\n",
      " [ 2  3]\n",
      " [ 4  5]]\n",
      "True or False :  False\n",
      "[[100  10]\n",
      " [  2   3]\n",
      " [  4   5]]\n",
      "[[10 10]\n",
      " [ 2  3]\n",
      " [ 4  5]]\n"
     ]
    }
   ],
   "source": [
    "a = np.array([[10,10], [2,3], [4,5]]) \n",
    "print(a)\n",
    "\n",
    "b = a.copy()         # Create copy of a\n",
    "print(b)\n",
    "\n",
    "# b does not share any memory of a \n",
    "print('True or False : ', b is a)\n",
    "\n",
    "b[0,0] = 100     # Change the contents of b\n",
    "print(b)\n",
    "print(a)         # a remains unchanged"
   ]
  },
  {
   "cell_type": "code",
   "execution_count": 29,
   "metadata": {},
   "outputs": [
    {
     "name": "stdout",
     "output_type": "stream",
     "text": [
      "a: \n",
      " [[0 1]\n",
      " [2 3]\n",
      " [4 5]]\n",
      "b: \n",
      " [[0 1]\n",
      " [2 3]\n",
      " [4 5]]\n",
      "a :  229546881312\n",
      "b :  229546325936\n",
      "shape of b : \n",
      " [[0 1 2]\n",
      " [3 4 5]]\n",
      "shape of a : \n",
      " [[0 1]\n",
      " [2 3]\n",
      " [4 5]]\n"
     ]
    }
   ],
   "source": [
    "a = np.arange(6).reshape(3,2) \n",
    "print('a: \\n', a)\n",
    "\n",
    "b = a.view()    # Create view of a \n",
    "print('b: \\n', b)\n",
    "\n",
    "print('a : ', id(a))                 # id for both the arrays are different\n",
    "print('b : ', id(b))  \n",
    "\n",
    "# Change the shape of b. It does not change the shape of a \n",
    "b.shape = 2,3 \n",
    "\n",
    "print('shape of b : \\n', b)\n",
    "print('shape of a : \\n', a)"
   ]
  },
  {
   "cell_type": "markdown",
   "metadata": {},
   "source": [
    "## ----------------------"
   ]
  },
  {
   "cell_type": "markdown",
   "metadata": {},
   "source": [
    "### Sorting - \n",
    "#### np.sort() , np.argsort() , np.lexsort() , np.argmax(), np.argmin() , np.nonzero() , np.where() , np.extract()"
   ]
  },
  {
   "cell_type": "code",
   "execution_count": 30,
   "metadata": {},
   "outputs": [
    {
     "name": "stdout",
     "output_type": "stream",
     "text": [
      "[[3 7]\n",
      " [9 1]]\n",
      "[[3 1]\n",
      " [9 7]]\n",
      "[(b'raju', 21) (b'anil', 25) (b'ravi', 17) (b'amar', 27)]\n",
      "[(b'amar', 27) (b'anil', 25) (b'raju', 21) (b'ravi', 17)]\n"
     ]
    }
   ],
   "source": [
    "a = np.array([[3,7],[9,1]])                                # np.sort()\n",
    "print(a)\n",
    "  \n",
    "print(np.sort(a, axis = 0))\n",
    "\n",
    "# Order parameter in sort function \n",
    "dt = np.dtype([('name', 'S10'),('age', int)]) \n",
    "\n",
    "a = np.array([(\"raju\",21),(\"anil\",25),(\"ravi\", 17), (\"amar\",27)], dtype = dt)   # data type = dt\n",
    "print(a)\n",
    "\n",
    "print(np.sort(a, order = 'name'))    # Order by name"
   ]
  },
  {
   "cell_type": "code",
   "execution_count": 31,
   "metadata": {},
   "outputs": [
    {
     "name": "stdout",
     "output_type": "stream",
     "text": [
      "[3 1 2]\n",
      "y : \n",
      " [1 2 0]\n",
      "\n",
      " [1 2 3]\n",
      "1\n",
      "2\n",
      "3\n"
     ]
    }
   ],
   "source": [
    "x = np.array([3, 1, 2])                                          # np.argsort()\n",
    "print(x)\n",
    "\n",
    "y = np.argsort(x)        # Applying argsort() to x\n",
    "print('y : \\n', y)\n",
    "\n",
    "print('\\n', x[y])         # Reconstruct original array in sorted order\n",
    "\n",
    "for i in y:\n",
    "    print(x[i])          # Reconstruct the original array using loop"
   ]
  },
  {
   "cell_type": "code",
   "execution_count": 32,
   "metadata": {},
   "outputs": [
    {
     "name": "stdout",
     "output_type": "stream",
     "text": [
      "[3 1 0 2] \n",
      "\n",
      "['amar, f.y.', 'anil, s.y.', 'raju, f.y.', 'ravi, s.y.']\n"
     ]
    }
   ],
   "source": [
    "# function performs an indirect sort using a sequence of keys.                  # np.lexsort()\n",
    "\n",
    "nm = ('raju','anil','ravi','amar') \n",
    "dv = ('f.y.', 's.y.', 's.y.', 'f.y.') \n",
    "ind = np.lexsort((dv,nm)) \n",
    "\n",
    "print(ind, '\\n')        # Applying lexsort() function \n",
    "\n",
    "print([nm[i] + \", \" + dv[i] for i in ind])       # Use this index to get sorted data"
   ]
  },
  {
   "cell_type": "code",
   "execution_count": 33,
   "metadata": {},
   "outputs": [
    {
     "name": "stdout",
     "output_type": "stream",
     "text": [
      "[[30 40 70]\n",
      " [80 20 10]\n",
      " [50 90 60]]\n",
      "7\n",
      "[30 40 70 80 20 10 50 90 60]\n",
      "[1 2 0]\n",
      "5\n",
      "10\n",
      "[0 1 1]\n"
     ]
    }
   ],
   "source": [
    "# These two functions return the indices of maximum and minimum elements respectively along the given axis.\n",
    "\n",
    "a = np.array([[30,40,70],[80,20,10],[50,90,60]])                       # argmax()  &  argmin()\n",
    "print(a)     \n",
    "\n",
    "print(np.argmax(a))               \n",
    "print(a.flatten())       # Index of maximum number in flattened array\n",
    "\n",
    "maxindex = np.argmax(a, axis = 0)       # Array containing indices of maximum along,  axis=0, axis=1\n",
    "print(maxindex)\n",
    "\n",
    "# Applying argmin() function\n",
    "minindex = np.argmin(a) \n",
    "print(minindex)\n",
    "\n",
    "print(a.flatten()[minindex])       # flattened array\n",
    "\n",
    "minindex = np.argmin(a, axis = 0)       # argmin()  , axis=0, axis=1\n",
    "print(minindex)"
   ]
  },
  {
   "cell_type": "code",
   "execution_count": 34,
   "metadata": {},
   "outputs": [
    {
     "name": "stdout",
     "output_type": "stream",
     "text": [
      "[[30 40  0]\n",
      " [ 0 20 10]\n",
      " [50  0 60]]\n",
      "(array([0, 0, 1, 1, 2, 2], dtype=int64), array([0, 1, 1, 2, 0, 2], dtype=int64))\n"
     ]
    }
   ],
   "source": [
    "# The numpy.nonzero() function returns the indices of non-zero elements in the input array.\n",
    "\n",
    "a = np.array([[30,40,0],[0,20,10],[50,0,60]])                   # np.nonzero()\n",
    "print(a)\n",
    "\n",
    "print(np.nonzero(a))"
   ]
  },
  {
   "cell_type": "code",
   "execution_count": 35,
   "metadata": {},
   "outputs": [
    {
     "name": "stdout",
     "output_type": "stream",
     "text": [
      "[[0. 1. 2.]\n",
      " [3. 4. 5.]\n",
      " [6. 7. 8.]]\n",
      "(array([1, 1, 2, 2, 2], dtype=int64), array([1, 2, 0, 1, 2], dtype=int64))\n",
      "[4. 5. 6. 7. 8.]\n"
     ]
    }
   ],
   "source": [
    "# The where() function returns the indices of elements in an input array where the given condition is satisfied.\n",
    "\n",
    "x = np.arange(9.).reshape(3, 3) \n",
    "print(x)\n",
    "\n",
    "y = np.where(x > 3)         # Indices of elements > 3\n",
    "print(y)\n",
    "\n",
    "print(x[y])      # Use these indices to get elements satisfying the condition"
   ]
  },
  {
   "cell_type": "code",
   "execution_count": 36,
   "metadata": {},
   "outputs": [
    {
     "name": "stdout",
     "output_type": "stream",
     "text": [
      "[[0. 1. 2.]\n",
      " [3. 4. 5.]\n",
      " [6. 7. 8.]]\n",
      "[[ True False  True]\n",
      " [False  True False]\n",
      " [ True False  True]]\n",
      "extract:  [0. 2. 4. 6. 8.]\n"
     ]
    }
   ],
   "source": [
    "# The extract() function returns the elements satisfying any condition.\n",
    "\n",
    "x = np.arange(9.).reshape(3, 3) \n",
    "print(x)\n",
    "\n",
    "# define a condition \n",
    "condition = np.mod(x,2) == 0 \n",
    "print(condition)                     # Element-wise value of condition' \n",
    "\n",
    "print('extract: ', np.extract(condition, x))       # Extract elements using condition"
   ]
  },
  {
   "cell_type": "markdown",
   "metadata": {},
   "source": [
    "## -------------------"
   ]
  },
  {
   "cell_type": "markdown",
   "metadata": {},
   "source": [
    "### Adding  \n",
    "##### np.append()  ,  np.insert()"
   ]
  },
  {
   "cell_type": "code",
   "execution_count": 37,
   "metadata": {},
   "outputs": [
    {
     "name": "stdout",
     "output_type": "stream",
     "text": [
      "[[1 2 3]\n",
      " [4 5 6]]\n",
      "[1 2 3 4 5 6 7 8 9]\n",
      "[[1 2 3]\n",
      " [4 5 6]\n",
      " [7 8 9]]\n",
      "[[1 2 3 5 5 5]\n",
      " [4 5 6 7 8 9]]\n"
     ]
    }
   ],
   "source": [
    "a = np.array([[1,2,3],[4,5,6]])                         # np.append()\n",
    "print(a)\n",
    "\n",
    "print(np.append(a, [7,8,9]))                       \n",
    "\n",
    "print(np.append(a, [[7,8,9]], axis = 0))         # axis=0\n",
    "\n",
    "print(np.append(a, [[5,5,5],[7,8,9]], axis = 1))    # axis=1 "
   ]
  },
  {
   "cell_type": "code",
   "execution_count": 38,
   "metadata": {
    "scrolled": true
   },
   "outputs": [
    {
     "name": "stdout",
     "output_type": "stream",
     "text": [
      "[[1 2]\n",
      " [3 4]\n",
      " [5 6]]\n",
      "[ 1  2  3 11 12  4  5  6]\n",
      "[[ 1  2]\n",
      " [11 11]\n",
      " [ 3  4]\n",
      " [ 5  6]]\n",
      "[[ 1 11  2]\n",
      " [ 3 11  4]\n",
      " [ 5 11  6]]\n"
     ]
    }
   ],
   "source": [
    "a = np.array([[1,2],[3,4],[5,6]])                            # np.insert()\n",
    "print(a)\n",
    "\n",
    "print(np.insert(a,3,[11,12]))  # Axis parameter not passed. The input array is flattened before insertion\n",
    "\n",
    "print(np.insert(a,1,[11], axis=0))  # Axis parameter passed. The values array is broadcast to match input array \n",
    "\n",
    "print(np.insert(a,1,11, axis=1))"
   ]
  },
  {
   "cell_type": "markdown",
   "metadata": {},
   "source": [
    "#### broadcasting"
   ]
  },
  {
   "cell_type": "code",
   "execution_count": 39,
   "metadata": {},
   "outputs": [
    {
     "name": "stdout",
     "output_type": "stream",
     "text": [
      "[[ 1.  2.  3.]\n",
      " [11. 12. 13.]\n",
      " [21. 22. 23.]\n",
      " [31. 32. 33.]]\n"
     ]
    }
   ],
   "source": [
    "a = np.array([[0.0,0.0,0.0],[10.0,10.0,10.0],[20.0,20.0,20.0],[30.0,30.0,30.0]]) \n",
    "b = np.array([1.0,2.0,3.0]) \n",
    "\n",
    "print(a+b)"
   ]
  },
  {
   "cell_type": "markdown",
   "metadata": {},
   "source": [
    "## ----------------------"
   ]
  },
  {
   "cell_type": "markdown",
   "metadata": {},
   "source": [
    "### Removing\n",
    "##### np.delete()"
   ]
  },
  {
   "cell_type": "code",
   "execution_count": 40,
   "metadata": {},
   "outputs": [
    {
     "name": "stdout",
     "output_type": "stream",
     "text": [
      "[[ 0  1  2  3]\n",
      " [ 4  5  6  7]\n",
      " [ 8  9 10 11]]\n",
      "[ 0  1  2  3  4  6  7  8  9 10 11]\n",
      "[[ 0  2  3]\n",
      " [ 4  6  7]\n",
      " [ 8 10 11]]\n",
      "[ 2  4  6  8 10]\n"
     ]
    }
   ],
   "source": [
    "a = np.arange(12).reshape(3,4) \n",
    "print(a)\n",
    "\n",
    "print(np.delete(a,5))   # Array flattened before delete operation as axis not used\n",
    "\n",
    "print(np.delete(a,1,axis = 1))    # Column 2 deleted\n",
    "\n",
    "# A slice containing alternate values from array deleted\n",
    "a = np.array([1,2,3,4,5,6,7,8,9,10]) \n",
    "print(np.delete(a, np.s_[::2]))"
   ]
  },
  {
   "cell_type": "markdown",
   "metadata": {},
   "source": [
    "## ------------------"
   ]
  },
  {
   "cell_type": "markdown",
   "metadata": {},
   "source": [
    "### slicing"
   ]
  },
  {
   "cell_type": "code",
   "execution_count": 41,
   "metadata": {},
   "outputs": [
    {
     "name": "stdout",
     "output_type": "stream",
     "text": [
      "6\n",
      "[3 6 9]\n",
      "[7 8 9]\n",
      "[[2 3]\n",
      " [5 6]\n",
      " [8 9]]\n"
     ]
    }
   ],
   "source": [
    "a=np.array([[1,2,3],[4,5,6],[7,8,9]])                                 # slicing\n",
    "\n",
    "print(a[1,2])    # start from 0 indexing\n",
    "print(a[:, 2])   # allrows, 2nd column\n",
    "print(a[-1])     # gives last row\n",
    "print(a[:,1:3])  # takes all rows , then 1st 2nd columns  not 0th-column"
   ]
  },
  {
   "cell_type": "markdown",
   "metadata": {},
   "source": [
    "## ----------------------"
   ]
  },
  {
   "cell_type": "markdown",
   "metadata": {},
   "source": [
    "#### Combining\n",
    "##### np.concatenate() , np.stack() , np.hstack() , np.vstcack()"
   ]
  },
  {
   "cell_type": "code",
   "execution_count": 42,
   "metadata": {
    "scrolled": true
   },
   "outputs": [
    {
     "name": "stdout",
     "output_type": "stream",
     "text": [
      "[[1 2]\n",
      " [3 4]\n",
      " [5 6]\n",
      " [7 8]]\n",
      "[[1 2 5 6]\n",
      " [3 4 7 8]]\n"
     ]
    }
   ],
   "source": [
    "a = np.array([[1,2],[3,4]]) \n",
    "# print(a)\n",
    "\n",
    "b = np.array([[5,6],[7,8]]) \n",
    "# print(b)\n",
    "\n",
    "# both the arrays are of same dimensions, Joining the two arrays along, axis=0\n",
    "print(np.concatenate((a,b)))                # axis=0\n",
    "\n",
    "print(np.concatenate((a,b),axis = 1))        # axis=1"
   ]
  },
  {
   "cell_type": "code",
   "execution_count": 43,
   "metadata": {},
   "outputs": [
    {
     "name": "stdout",
     "output_type": "stream",
     "text": [
      "[[[1 2]\n",
      "  [3 4]]\n",
      "\n",
      " [[5 6]\n",
      "  [7 8]]]\n"
     ]
    }
   ],
   "source": [
    "a = np.array([[1,2],[3,4]])                      # np.stack()\n",
    "# print(a)\n",
    "b = np.array([[5,6],[7,8]]) \n",
    "# print(b)\n",
    "\n",
    "print(np.stack((a,b),0))     # Stack the two arrays along, axis=0\n",
    "\n",
    "# print(np.stack((a,b),1))       # Stack the two arrays along, axis=1"
   ]
  },
  {
   "cell_type": "code",
   "execution_count": 44,
   "metadata": {},
   "outputs": [
    {
     "name": "stdout",
     "output_type": "stream",
     "text": [
      "v stack : \n",
      " [[ 0  1]\n",
      " [ 2  3]\n",
      " [ 4  5]\n",
      " [ 6  7]\n",
      " [ 8  9]\n",
      " [10 11]]\n",
      "h stack : \n",
      " [[ 0  1  6  7]\n",
      " [ 2  3  8  9]\n",
      " [ 4  5 10 11]]\n"
     ]
    }
   ],
   "source": [
    "x = np.arange(6).reshape(3,2)                            # stacking  , np.hstack(), np.vstack()\n",
    "y = np.arange(6,12).reshape(3,2)\n",
    "\n",
    "print('v stack : \\n', np.vstack((x,y)))    # stacks vertically all x, y array\n",
    "print('h stack : \\n', np.hstack((x,y)))    # stacks horizontally"
   ]
  },
  {
   "cell_type": "markdown",
   "metadata": {},
   "source": [
    "### Split\n",
    "##### np.split(), np.hsplit(), np.vsplit()"
   ]
  },
  {
   "cell_type": "code",
   "execution_count": 45,
   "metadata": {},
   "outputs": [
    {
     "name": "stdout",
     "output_type": "stream",
     "text": [
      "[array([0, 1, 2]), array([3, 4, 5]), array([6, 7, 8])]\n",
      "-------------------- \n",
      "\n",
      "[[ 0  1  2  3  4  5  6  7  8  9]\n",
      " [10 11 12 13 14 15 16 17 18 19]\n",
      " [20 21 22 23 24 25 26 27 28 29]]\n",
      "\n",
      " [array([[ 0,  1,  2,  3,  4],\n",
      "       [10, 11, 12, 13, 14],\n",
      "       [20, 21, 22, 23, 24]]), array([[ 5,  6,  7,  8,  9],\n",
      "       [15, 16, 17, 18, 19],\n",
      "       [25, 26, 27, 28, 29]])]\n",
      "[array([[0, 1, 2, 3, 4, 5, 6, 7, 8, 9]]), array([[10, 11, 12, 13, 14, 15, 16, 17, 18, 19]]), array([[20, 21, 22, 23, 24, 25, 26, 27, 28, 29]])]\n"
     ]
    }
   ],
   "source": [
    "a = np.arange(9) \n",
    "# print(a)\n",
    "b = np.split(a,3)                     # split\n",
    "print(b)\n",
    "print(20*'-','\\n')\n",
    "\n",
    "\n",
    "s = np.arange(30).reshape(3,10)                \n",
    "print(s)\n",
    "print('\\n', np.hsplit(s,2))              # hsplit : splits basically into vertical\n",
    "\n",
    "horizontal = np.hsplit(s,2)              # use this way\n",
    "# print('h0 : \\n', horizontal[0])\n",
    "# print('h1 : \\n', horizontal[1])\n",
    "\n",
    "print(np.vsplit(s,3))                  # vsplit : splits basically into horizontal"
   ]
  },
  {
   "cell_type": "markdown",
   "metadata": {},
   "source": [
    "#### indexing"
   ]
  },
  {
   "cell_type": "code",
   "execution_count": 46,
   "metadata": {},
   "outputs": [
    {
     "name": "stdout",
     "output_type": "stream",
     "text": [
      "[[ 0  1  2  3]\n",
      " [ 4  5  6  7]\n",
      " [ 8  9 10 11]]\n",
      "[[False False False False]\n",
      " [False  True  True  True]\n",
      " [ True  True  True  True]]\n",
      "[ 5  6  7  8  9 10 11]\n",
      "[[ 0  1  2  3]\n",
      " [ 4 -1 -1 -1]\n",
      " [-1 -1 -1 -1]]\n"
     ]
    }
   ],
   "source": [
    "r = np.arange(12).reshape(3,4)                           \n",
    "print(r)\n",
    "\n",
    "q=r>4    # checks r elements > 4  and\n",
    "print(q)  # gives boolean\n",
    "\n",
    "print(r[q])   # return True values\n",
    "\n",
    "r[q]=-1    # Here we assign -1 to True values , return array\n",
    "print(r)"
   ]
  },
  {
   "cell_type": "markdown",
   "metadata": {},
   "source": [
    "## ---------------------------------"
   ]
  },
  {
   "cell_type": "markdown",
   "metadata": {},
   "source": [
    "## nditer()"
   ]
  },
  {
   "cell_type": "markdown",
   "metadata": {},
   "source": [
    "###### flat"
   ]
  },
  {
   "cell_type": "code",
   "execution_count": 47,
   "metadata": {},
   "outputs": [
    {
     "name": "stdout",
     "output_type": "stream",
     "text": [
      "[[ 0  1  2  3]\n",
      " [ 4  5  6  7]\n",
      " [ 8  9 10 11]]\n",
      "[0 1 2 3]\n",
      "[4 5 6 7]\n",
      "[ 8  9 10 11]\n",
      "0 1 2 3 4 5 6 7 8 9 10 11 "
     ]
    }
   ],
   "source": [
    "a = np.arange(12).reshape(3,4)                                   # iterate using nditer()\n",
    "\n",
    "print(a)\n",
    "\n",
    "for row in a:       # for loop\n",
    "    print(row)\n",
    "\n",
    "for cell in a.flat:               # flat : converts into  1-D\n",
    "    print(cell, end=' ')"
   ]
  },
  {
   "cell_type": "code",
   "execution_count": 48,
   "metadata": {},
   "outputs": [
    {
     "name": "stdout",
     "output_type": "stream",
     "text": [
      "0 1 2 3 4 5 6 7 8 9 10 11 \n",
      " [0 4 8]\n",
      "\n",
      " [1 5 9]\n",
      "\n",
      " [ 2  6 10]\n",
      "\n",
      " [ 3  7 11]\n",
      "[[  0   1   4   9]\n",
      " [ 16  25  36  49]\n",
      " [ 64  81 100 121]]\n"
     ]
    }
   ],
   "source": [
    "for x in np.nditer(a, order='C'):              # order='C' : prints row-wise    , oreder='F' : prints column-wise \n",
    "    print(x, end=' ')\n",
    "    \n",
    "    \n",
    "for x in np.nditer(a, order='F', flags=['external_loop']):      # order='C' in single row ,  order='F' in columns\n",
    "    print('\\n',x)\n",
    "    \n",
    "    \n",
    "for x in np.nditer(a,op_flags=['readwrite']):\n",
    "    x[...]=x*x                                  # it will suare all elements of array\n",
    "print(a)                  # and modify the array"
   ]
  },
  {
   "cell_type": "code",
   "execution_count": 49,
   "metadata": {},
   "outputs": [
    {
     "name": "stdout",
     "output_type": "stream",
     "text": [
      "[[ 3]\n",
      " [ 7]\n",
      " [11]]\n",
      "0 3\n",
      "1 3\n",
      "4 3\n",
      "9 3\n",
      "16 7\n",
      "25 7\n",
      "36 7\n",
      "49 7\n",
      "64 11\n",
      "81 11\n",
      "100 11\n",
      "121 11\n"
     ]
    }
   ],
   "source": [
    "# iterate from two arrays ->  a , b\n",
    "b=np.arange(3,15,4).reshape(3,1)    \n",
    "print(b)\n",
    "\n",
    "for x,y in np.nditer([a,b]):     # iterate a,b and takes 1st row of both array a,b\n",
    "    print(x,y)                   # then so on"
   ]
  },
  {
   "cell_type": "code",
   "execution_count": 50,
   "metadata": {},
   "outputs": [
    {
     "name": "stdout",
     "output_type": "stream",
     "text": [
      "[ True  True False False False False False False  True]\n",
      "[ True  True False False False False False False  True]\n"
     ]
    }
   ],
   "source": [
    "my_vector = np.array([7,14,65,45,25,31,89,47,-21])             # checking divisible  by 7 , modulus %\n",
    "\n",
    "zero_mode_7_mask = 0 ==(my_vector%7)                 # use this or \n",
    "print(zero_mode_7_mask)\n",
    "\n",
    "zero_mode = np.where(my_vector%7==0,True,False)     # this  \n",
    "print(zero_mode)"
   ]
  },
  {
   "cell_type": "code",
   "execution_count": 51,
   "metadata": {},
   "outputs": [
    {
     "name": "stdout",
     "output_type": "stream",
     "text": [
      "[  7  14 -21]\n",
      "[ 7 14]\n"
     ]
    }
   ],
   "source": [
    "sub_array = my_vector[zero_mode_7_mask]     # assigning True values in ->sub_array\n",
    "print(sub_array)\n",
    "\n",
    "print( sub_array[sub_array > 0] )         # sub_array as mask-array to index itself , give True values"
   ]
  },
  {
   "cell_type": "code",
   "execution_count": 52,
   "metadata": {},
   "outputs": [
    {
     "name": "stdout",
     "output_type": "stream",
     "text": [
      "[ True  True False False False False False False False]\n"
     ]
    }
   ],
   "source": [
    "# Numpy logical Operators   ,  another method -> of masking\n",
    "\n",
    "mod_test = 0 ==(my_vector%7)\n",
    "positive_test = my_vector > 0\n",
    "\n",
    "combine_mask = np.logical_and(mod_test,positive_test)\n",
    "print(combine_mask)"
   ]
  },
  {
   "cell_type": "code",
   "execution_count": 53,
   "metadata": {},
   "outputs": [
    {
     "name": "stdout",
     "output_type": "stream",
     "text": [
      "[[[ -2   3   8  13  18]\n",
      "  [ 23  28  33  38  43]\n",
      "  [ 48  53  58  63  68]\n",
      "  [ 73  78  83  88  93]\n",
      "  [ 98 103 108 113 118]\n",
      "  [123 128 133 138 143]\n",
      "  [148 153 158 163 168]]\n",
      "\n",
      " [[173 178 183 188 193]\n",
      "  [198 203 208 213 218]\n",
      "  [223 228 233 238 243]\n",
      "  [248 253 258 263 268]\n",
      "  [273 278 283 288 293]\n",
      "  [298 303 308 313 318]\n",
      "  [323 328 333 338 343]]]\n"
     ]
    }
   ],
   "source": [
    "my_3D_array = np.arange(70)\n",
    "my_3D_array.shape = (2,7,5)\n",
    "\n",
    "print(5 * my_3D_array - 2)"
   ]
  },
  {
   "cell_type": "code",
   "execution_count": 54,
   "metadata": {},
   "outputs": [
    {
     "name": "stdout",
     "output_type": "stream",
     "text": [
      "[[[ 0  1  2  3  4]\n",
      "  [ 5  6  7  8  9]\n",
      "  [10 11 12 13 14]\n",
      "  [15 16 17 18 19]\n",
      "  [20 21 22 23 24]\n",
      "  [25 26 27 28 29]\n",
      "  [30 31 32 33 34]]\n",
      "\n",
      " [[35 36 37 38 39]\n",
      "  [40 41 42 43 44]\n",
      "  [45 46 47 48 49]\n",
      "  [50 51 52 53 54]\n",
      "  [55 56 57 58 59]\n",
      "  [60 61 62 63 64]\n",
      "  [65 66 67 68 69]]]\n",
      "[[ 35  37  39  41  43]\n",
      " [ 45  47  49  51  53]\n",
      " [ 55  57  59  61  63]\n",
      " [ 65  67  69  71  73]\n",
      " [ 75  77  79  81  83]\n",
      " [ 85  87  89  91  93]\n",
      " [ 95  97  99 101 103]]\n",
      "[[105 112 119 126 133]\n",
      " [350 357 364 371 378]]\n",
      "[[ 10  35  60  85 110 135 160]\n",
      " [185 210 235 260 285 310 335]]\n"
     ]
    }
   ],
   "source": [
    "print(my_3D_array)\n",
    "print(my_3D_array.sum(axis=0))\n",
    "print(my_3D_array.sum(axis=1))\n",
    "print(my_3D_array.sum(axis=2))"
   ]
  },
  {
   "cell_type": "code",
   "execution_count": 55,
   "metadata": {},
   "outputs": [
    {
     "data": {
      "text/plain": [
       "array([[3, 3, 3, 3, 3],\n",
       "       [3, 3, 3, 3, 3],\n",
       "       [3, 3, 3, 3, 3],\n",
       "       [3, 3, 3, 3, 3],\n",
       "       [3, 3, 3, 3, 3],\n",
       "       [3, 3, 3, 3, 3],\n",
       "       [3, 3, 3, 3, 3]])"
      ]
     },
     "execution_count": 55,
     "metadata": {},
     "output_type": "execute_result"
    }
   ],
   "source": [
    "my_2D_array = np.ones(35, dtype='int').reshape(7,5)*3         # changes all ones 1 into 3\n",
    "my_2D_array"
   ]
  },
  {
   "cell_type": "code",
   "execution_count": 56,
   "metadata": {},
   "outputs": [
    {
     "name": "stdout",
     "output_type": "stream",
     "text": [
      "[[[ 0.      0.6347  0.7097  2.7448  3.9821]\n",
      "  [ 4.6068  3.6442  1.8483  0.3743  6.8461]\n",
      "  [ 2.1172  2.9498 10.657   1.4463  0.5581]\n",
      "  [ 2.2825  6.5437 12.464  12.3732  5.6308]\n",
      "  [12.76    9.3658  8.2843 10.4262  5.8817]\n",
      "  [11.4241 18.9731  2.9822 14.8963 21.951 ]\n",
      "  [29.8702  8.2016 26.7015 11.6003  3.4917]]\n",
      "\n",
      " [[26.7309 22.8489 13.1293 34.7673 38.8251]\n",
      "  [36.8547 24.9021 11.0899  2.0121 33.4699]\n",
      "  [ 9.5274 12.3356 41.74    5.3402  1.9533]\n",
      "  [ 7.6082 20.8579 38.1251 36.4322 16.0033]\n",
      "  [35.0901 24.9756 21.4639 26.2921 14.4592]\n",
      "  [27.4178 44.5137  6.8479 33.5167 48.4436]\n",
      "  [64.7188 17.4616 55.9063 23.9037  7.086 ]]]\n"
     ]
    }
   ],
   "source": [
    "my_random_2D_array = np.random.random((7,5))\n",
    "np.set_printoptions(precision=4)              # precision=4 ,gives 4 decimal digits in float\n",
    "print(my_3D_array * my_random_2D_array)"
   ]
  },
  {
   "cell_type": "code",
   "execution_count": 57,
   "metadata": {},
   "outputs": [
    {
     "data": {
      "text/plain": [
       "array([-1,  7, 14, 21, 28])"
      ]
     },
     "execution_count": 57,
     "metadata": {},
     "output_type": "execute_result"
    }
   ],
   "source": [
    "my_vector = np.arange(5)*7\n",
    "my_vector[0] = -1\n",
    "my_vector"
   ]
  },
  {
   "cell_type": "markdown",
   "metadata": {},
   "source": [
    "#### exec() function\n"
   ]
  },
  {
   "cell_type": "code",
   "execution_count": 58,
   "metadata": {},
   "outputs": [
    {
     "name": "stdout",
     "output_type": "stream",
     "text": [
      "enter what you want to do : 5+2\n"
     ]
    }
   ],
   "source": [
    "code=input(\"enter what you want to do : \")     # enter ->  [print(x**2) for x in range(7)]\n",
    "exec(code)"
   ]
  },
  {
   "cell_type": "code",
   "execution_count": 59,
   "metadata": {},
   "outputs": [],
   "source": [
    "import os  \n",
    "\n",
    "# by importing os , we can find all files and deletes through exec() , its dangerous also  \n",
    "# ny entering --> print(os.listdir())"
   ]
  },
  {
   "cell_type": "code",
   "execution_count": 60,
   "metadata": {},
   "outputs": [
    {
     "name": "stdout",
     "output_type": "stream",
     "text": [
      "[('name', 'S6'), ('height', '<f8'), ('weight', '<f8'), ('age', '<i8')]\n",
      "[(b'', 0., 0., 0) (b'', 0., 0., 0) (b'', 0., 0., 0) (b'', 0., 0., 0)]\n",
      "[(b'alpha', 65., 112., 23) (b'',  0.,   0.,  0) (b'',  0.,   0.,  0)\n",
      " (b'delta', 73., 205., 34)]\n"
     ]
    }
   ],
   "source": [
    "person_data_def = [('name','S6'),('height','<f8'),('weight','<f8'),('age','<i8')]\n",
    "print(person_data_def)\n",
    "\n",
    "people_array = np.zeros((4), dtype=person_data_def)\n",
    "print(people_array)    # b -> indicate it is a string\n",
    "\n",
    "people_array[3] = ('delta',73,205,34)\n",
    "people_array[0] = ('alpha',65,112,23)\n",
    "print(people_array)"
   ]
  },
  {
   "cell_type": "markdown",
   "metadata": {},
   "source": [
    "#### structured multidimensional arrays\n"
   ]
  },
  {
   "cell_type": "code",
   "execution_count": 61,
   "metadata": {},
   "outputs": [
    {
     "name": "stdout",
     "output_type": "stream",
     "text": [
      "[[[(b'', 0., 0., 0) (b'', 0., 0., 0)]\n",
      "  [(b'', 0., 0., 0) (b'', 0., 0., 0)]\n",
      "  [(b'', 0., 0., 0) (b'', 0., 0., 0)]]\n",
      "\n",
      " [[(b'', 0., 0., 0) (b'', 0., 0., 0)]\n",
      "  [(b'', 0., 0., 0) (b'', 0., 0., 0)]\n",
      "  [(b'', 0., 0., 0) (b'', 0., 0., 0)]]\n",
      "\n",
      " [[(b'', 0., 0., 0) (b'', 0., 0., 0)]\n",
      "  [(b'', 0., 0., 0) (b'', 0., 0., 0)]\n",
      "  [(b'', 0., 0., 0) (b'', 0., 0., 0)]]\n",
      "\n",
      " [[(b'', 0., 0., 0) (b'', 0., 0., 0)]\n",
      "  [(b'', 0., 0., 0) (b'', 0., 0., 0)]\n",
      "  [(b'', 0., 0., 0) (b'', 0., 0., 0)]]]\n",
      "[[[(b'',  0.,   0.,  0) (b'',  0.,   0.,  0)]\n",
      "  [(b'',  0.,   0.,  0) (b'',  0.,   0.,  0)]\n",
      "  [(b'',  0.,   0.,  0) (b'',  0.,   0.,  0)]]\n",
      "\n",
      " [[(b'',  0.,   0.,  0) (b'',  0.,   0.,  0)]\n",
      "  [(b'',  0.,   0.,  0) (b'',  0.,   0.,  0)]\n",
      "  [(b'',  0.,   0.,  0) (b'',  0.,   0.,  0)]]\n",
      "\n",
      " [[(b'',  0.,   0.,  0) (b'',  0.,   0.,  0)]\n",
      "  [(b'',  0.,   0.,  0) (b'',  0.,   0.,  0)]\n",
      "  [(b'',  0.,   0.,  0) (b'',  0.,   0.,  0)]]\n",
      "\n",
      " [[(b'',  0.,   0.,  0) (b'',  0.,   0.,  0)]\n",
      "  [(b'',  0.,   0.,  0) (b'',  0.,   0.,  0)]\n",
      "  [(b'',  0.,   0.,  0) (b'echo', 68., 105., 46)]]]\n",
      "[[[ 0.  0.]\n",
      "  [ 0.  0.]\n",
      "  [ 0.  0.]]\n",
      "\n",
      " [[ 0.  0.]\n",
      "  [ 0.  0.]\n",
      "  [ 0.  0.]]\n",
      "\n",
      " [[ 0.  0.]\n",
      "  [ 0.  0.]\n",
      "  [ 0.  0.]]\n",
      "\n",
      " [[ 0.  0.]\n",
      "  [ 0.  0.]\n",
      "  [ 0. 68.]]]\n",
      "[[[( 0.,   0.) ( 0.,   0.)]\n",
      "  [( 0.,   0.) ( 0.,   0.)]\n",
      "  [( 0.,   0.) ( 0.,   0.)]]\n",
      "\n",
      " [[( 0.,   0.) ( 0.,   0.)]\n",
      "  [( 0.,   0.) ( 0.,   0.)]\n",
      "  [( 0.,   0.) ( 0.,   0.)]]\n",
      "\n",
      " [[( 0.,   0.) ( 0.,   0.)]\n",
      "  [( 0.,   0.) ( 0.,   0.)]\n",
      "  [( 0.,   0.) ( 0.,   0.)]]\n",
      "\n",
      " [[( 0.,   0.) ( 0.,   0.)]\n",
      "  [( 0.,   0.) ( 0.,   0.)]\n",
      "  [( 0.,   0.) (68., 105.)]]]\n"
     ]
    }
   ],
   "source": [
    "people_big_array = np.zeros((4,3,2),dtype=person_data_def)\n",
    "print(people_big_array)\n",
    "\n",
    "people_big_array[3,2,1] = ('echo',68,105,46)\n",
    "print(people_big_array)\n",
    "\n",
    "print(people_big_array['height'])\n",
    "print(people_big_array[['height','weight']])"
   ]
  },
  {
   "cell_type": "markdown",
   "metadata": {},
   "source": [
    "#### Record arrays\n"
   ]
  },
  {
   "cell_type": "code",
   "execution_count": 62,
   "metadata": {},
   "outputs": [
    {
     "name": "stdout",
     "output_type": "stream",
     "text": [
      "[(b'Delta', 73., 205., 34) (b'Alpha', 65., 112., 23)]\n",
      "34\n"
     ]
    }
   ],
   "source": [
    "person_record_array = np.rec.array([('Delta',73,205,34),('Alpha',65,112,23)],dtype=person_data_def)\n",
    "print(person_record_array)\n",
    "print(person_record_array[0].age)"
   ]
  },
  {
   "cell_type": "markdown",
   "metadata": {},
   "source": [
    "## -----------------------------"
   ]
  },
  {
   "cell_type": "markdown",
   "metadata": {},
   "source": [
    "### saving  and  loading \n",
    "\n",
    "np.save()  ,  np.load()"
   ]
  },
  {
   "cell_type": "code",
   "execution_count": 63,
   "metadata": {},
   "outputs": [
    {
     "name": "stdout",
     "output_type": "stream",
     "text": [
      "a is: [0 1 2 3 4]\n"
     ]
    }
   ],
   "source": [
    "a = np.arange(5) \n",
    "print(\"a is:\", a)                      # np.save()\n",
    "\n",
    "np.save('geekfile', a)    # the array is saved in the file ' geekfile.npy '"
   ]
  },
  {
   "cell_type": "code",
   "execution_count": 64,
   "metadata": {},
   "outputs": [
    {
     "name": "stdout",
     "output_type": "stream",
     "text": [
      "b is: [0 1 2 3 4]\n"
     ]
    }
   ],
   "source": [
    "b = np.load('geekfile.npy') \n",
    "\n",
    "print(\"b is:\", b)                     # np.load()"
   ]
  },
  {
   "cell_type": "markdown",
   "metadata": {},
   "source": [
    "#### Text/CSV files:\n",
    "\n",
    "np.loadtxt('New_file.txt')                       # from a text file\n",
    "\n",
    "np.genfromtxt('New_file.csv',delimiter=',')      # from a CSV file\n",
    "\n",
    "np.savetxt('New_file.txt',arr,delimiter=' ')     # writes to a text file\n",
    "\n",
    "np.savetxt('New_file.csv',arr,delimiter=',')     # writes to a CSV file"
   ]
  },
  {
   "cell_type": "code",
   "execution_count": null,
   "metadata": {},
   "outputs": [],
   "source": []
  }
 ],
 "metadata": {
  "kernelspec": {
   "display_name": "Python 3",
   "language": "python",
   "name": "python3"
  },
  "language_info": {
   "codemirror_mode": {
    "name": "ipython",
    "version": 3
   },
   "file_extension": ".py",
   "mimetype": "text/x-python",
   "name": "python",
   "nbconvert_exporter": "python",
   "pygments_lexer": "ipython3",
   "version": "3.6.8"
  }
 },
 "nbformat": 4,
 "nbformat_minor": 2
}
